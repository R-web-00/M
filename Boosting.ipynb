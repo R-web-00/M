{
  "nbformat": 4,
  "nbformat_minor": 0,
  "metadata": {
    "colab": {
      "provenance": []
    },
    "kernelspec": {
      "name": "python3",
      "display_name": "Python 3"
    },
    "language_info": {
      "name": "python"
    }
  },
  "cells": [
    {
      "cell_type": "code",
      "source": [
        "import pandas as pd\n",
        "from sklearn.model_selection import train_test_split\n",
        "from sklearn.ensemble import RandomForestClassifier\n",
        "from sklearn.preprocessing import LabelEncoder\n",
        "from sklearn.metrics import classification_report, accuracy_score\n",
        "\n",
        "df = pd.read_csv('adult.csv')\n",
        "\n",
        "print(df.head())\n"
      ],
      "metadata": {
        "colab": {
          "base_uri": "https://localhost:8080/"
        },
        "id": "D4VtNMiZRT3n",
        "outputId": "ec487b68-e3d2-4288-c3d5-4561131df940"
      },
      "execution_count": 2,
      "outputs": [
        {
          "output_type": "stream",
          "name": "stdout",
          "text": [
            "   age  workclass  fnlwgt     education  educational-num      marital-status  \\\n",
            "0   25    Private  226802          11th                7       Never-married   \n",
            "1   38    Private   89814       HS-grad                9  Married-civ-spouse   \n",
            "2   28  Local-gov  336951    Assoc-acdm               12  Married-civ-spouse   \n",
            "3   44    Private  160323  Some-college               10  Married-civ-spouse   \n",
            "4   18          ?  103497  Some-college               10       Never-married   \n",
            "\n",
            "          occupation relationship   race  gender  capital-gain  capital-loss  \\\n",
            "0  Machine-op-inspct    Own-child  Black    Male             0             0   \n",
            "1    Farming-fishing      Husband  White    Male             0             0   \n",
            "2    Protective-serv      Husband  White    Male             0             0   \n",
            "3  Machine-op-inspct      Husband  Black    Male          7688             0   \n",
            "4                  ?    Own-child  White  Female             0             0   \n",
            "\n",
            "   hours-per-week native-country income  \n",
            "0              40  United-States  <=50K  \n",
            "1              50  United-States  <=50K  \n",
            "2              40  United-States   >50K  \n",
            "3              40  United-States   >50K  \n",
            "4              30  United-States  <=50K  \n"
          ]
        }
      ]
    },
    {
      "cell_type": "code",
      "source": [
        "df.columns = ['age', 'workclass', 'fnlwgt', 'education', 'education-num', 'marital-status',\n",
        "              'occupation', 'relationship', 'race', 'sex', 'capital-gain', 'capital-loss',\n",
        "              'hours-per-week', 'native-country', 'income']\n"
      ],
      "metadata": {
        "id": "D7U_qSFHRwY3"
      },
      "execution_count": 3,
      "outputs": []
    },
    {
      "cell_type": "code",
      "source": [
        "df.replace(' ?', pd.NA, inplace=True)\n",
        "\n",
        "df.dropna(inplace=True)\n"
      ],
      "metadata": {
        "id": "YewY-RY3R2n2"
      },
      "execution_count": 4,
      "outputs": []
    },
    {
      "cell_type": "code",
      "source": [
        "categorical_columns = ['workclass', 'education', 'marital-status', 'occupation',\n",
        "                       'relationship', 'race', 'sex', 'native-country', 'income']\n",
        "\n",
        "label_encoders = {}\n",
        "for col in categorical_columns:\n",
        "    le = LabelEncoder()\n",
        "    df[col] = le.fit_transform(df[col])\n",
        "    label_encoders[col] = le\n"
      ],
      "metadata": {
        "id": "g3Cy-iRCR6Fu"
      },
      "execution_count": 5,
      "outputs": []
    },
    {
      "cell_type": "code",
      "source": [
        "print(df)"
      ],
      "metadata": {
        "colab": {
          "base_uri": "https://localhost:8080/"
        },
        "id": "GmimfVa4WYrj",
        "outputId": "6f26ebee-fabd-45b6-8714-fea952c1dd18"
      },
      "execution_count": 6,
      "outputs": [
        {
          "output_type": "stream",
          "name": "stdout",
          "text": [
            "       age  workclass  fnlwgt  education  education-num  marital-status  \\\n",
            "0       25          4  226802          1              7               4   \n",
            "1       38          4   89814         11              9               2   \n",
            "2       28          2  336951          7             12               2   \n",
            "3       44          4  160323         15             10               2   \n",
            "4       18          0  103497         15             10               4   \n",
            "...    ...        ...     ...        ...            ...             ...   \n",
            "48837   27          4  257302          7             12               2   \n",
            "48838   40          4  154374         11              9               2   \n",
            "48839   58          4  151910         11              9               6   \n",
            "48840   22          4  201490         11              9               4   \n",
            "48841   52          5  287927         11              9               2   \n",
            "\n",
            "       occupation  relationship  race  sex  capital-gain  capital-loss  \\\n",
            "0               7             3     2    1             0             0   \n",
            "1               5             0     4    1             0             0   \n",
            "2              11             0     4    1             0             0   \n",
            "3               7             0     2    1          7688             0   \n",
            "4               0             3     4    0             0             0   \n",
            "...           ...           ...   ...  ...           ...           ...   \n",
            "48837          13             5     4    0             0             0   \n",
            "48838           7             0     4    1             0             0   \n",
            "48839           1             4     4    0             0             0   \n",
            "48840           1             3     4    1             0             0   \n",
            "48841           4             5     4    0         15024             0   \n",
            "\n",
            "       hours-per-week  native-country  income  \n",
            "0                  40              39       0  \n",
            "1                  50              39       0  \n",
            "2                  40              39       1  \n",
            "3                  40              39       1  \n",
            "4                  30              39       0  \n",
            "...               ...             ...     ...  \n",
            "48837              38              39       0  \n",
            "48838              40              39       1  \n",
            "48839              40              39       0  \n",
            "48840              20              39       0  \n",
            "48841              40              39       1  \n",
            "\n",
            "[48842 rows x 15 columns]\n"
          ]
        }
      ]
    },
    {
      "cell_type": "code",
      "source": [
        "X = df.drop('income', axis=1)\n",
        "y = df['income']\n"
      ],
      "metadata": {
        "id": "XWmQtk2sR-NB"
      },
      "execution_count": 7,
      "outputs": []
    },
    {
      "cell_type": "code",
      "source": [
        "X_train, X_test, y_train, y_test = train_test_split(X, y, test_size=0.2, random_state=42)\n"
      ],
      "metadata": {
        "id": "hbJPpvvQSA2S"
      },
      "execution_count": 8,
      "outputs": []
    },
    {
      "cell_type": "code",
      "source": [
        "from sklearn.tree import export_graphviz\n",
        "import pydotplus\n",
        "from IPython.display import Image, display\n"
      ],
      "metadata": {
        "id": "sUnzlZgJU2Sn"
      },
      "execution_count": 9,
      "outputs": []
    },
    {
      "cell_type": "code",
      "source": [
        "import numpy as np"
      ],
      "metadata": {
        "id": "-e45HyGWYxDN"
      },
      "execution_count": 11,
      "outputs": []
    },
    {
      "cell_type": "code",
      "source": [
        "def bootstrap_evaluate(X, y, n_bootstraps=100):\n",
        "    accuracies = []\n",
        "    for i in range(n_bootstraps):\n",
        "        indices = np.random.randint(0, len(X), len(X))\n",
        "\n",
        "        bootstrap_X, bootstrap_y = X.iloc[indices], y.iloc[indices]\n",
        "\n",
        "        X_train, X_test, y_train, y_test = train_test_split(bootstrap_X, bootstrap_y, test_size=0.2, random_state=42)\n",
        "\n",
        "        rf = RandomForestClassifier(n_estimators=100, random_state=42)\n",
        "        rf.fit(X_train, y_train)\n",
        "\n",
        "        y_pred = rf.predict(X_test)\n",
        "        accuracy = accuracy_score(y_test, y_pred)\n",
        "        accuracies.append(accuracy)\n",
        "\n",
        "    mean_accuracy = np.mean(accuracies)\n",
        "    std_accuracy = np.std(accuracies)\n",
        "\n",
        "    return mean_accuracy, std_accuracy\n",
        "\n",
        "mean_acc, std_acc = bootstrap_evaluate(X, y, n_bootstraps=10)\n",
        "\n",
        "X_train_final, X_test_final, y_train_final, y_test_final = train_test_split(X, y, test_size=0.2, random_state=42)\n",
        "\n",
        "rf_final = RandomForestClassifier(n_estimators=100, random_state=42)\n",
        "rf_final.fit(X_train_final, y_train_final)\n",
        "\n",
        "y_pred_final = rf_final.predict(X_test_final)\n",
        "\n",
        "print(f\"Final Model Evaluation:\")\n",
        "print(f\"Accuracy: {accuracy_score(y_test_final, y_pred_final)}\")\n",
        "print(f\"Classification Report:\\n{classification_report(y_test_final, y_pred_final)}\")\n",
        "print(f\"Mean Accuracy (Bootstrapping): {mean_acc}\")\n",
        "print(f\"Standard Deviation of Accuracy (Bootstrapping): {std_acc}\")"
      ],
      "metadata": {
        "colab": {
          "base_uri": "https://localhost:8080/"
        },
        "id": "s_sDsoJsZPuf",
        "outputId": "ab1ccf7a-6fbd-45f1-cc9c-dc4cb671c29e"
      },
      "execution_count": 12,
      "outputs": [
        {
          "output_type": "stream",
          "name": "stdout",
          "text": [
            "Final Model Evaluation:\n",
            "Accuracy: 0.8639574163169209\n",
            "Classification Report:\n",
            "              precision    recall  f1-score   support\n",
            "\n",
            "           0       0.89      0.93      0.91      7479\n",
            "           1       0.74      0.64      0.69      2290\n",
            "\n",
            "    accuracy                           0.86      9769\n",
            "   macro avg       0.82      0.79      0.80      9769\n",
            "weighted avg       0.86      0.86      0.86      9769\n",
            "\n",
            "Mean Accuracy (Bootstrapping): 0.9363292046268809\n",
            "Standard Deviation of Accuracy (Bootstrapping): 0.002042167810754414\n"
          ]
        }
      ]
    }
  ]
}